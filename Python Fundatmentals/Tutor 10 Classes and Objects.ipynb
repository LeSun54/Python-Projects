{
 "cells": [
  {
   "cell_type": "code",
   "execution_count": 2,
   "metadata": {},
   "outputs": [],
   "source": [
    "# int = integer\n",
    "# str = string\n",
    "# bool = boolean\n",
    "\n",
    "class Person:\n",
    "    def __init__ (self, name, personality, isSitting, robotOwned):\n",
    "        self.name = name\n",
    "        self.personality = personality\n",
    "        self.isSitting = isSitting\n",
    "        self.robotOwned = robotOwned\n",
    "    \n",
    "    def sit_down(self):\n",
    "        self.isSitting = True\n",
    "        \n",
    "    def stand_up (self):\n",
    "        self.isSitting = False"
   ]
  },
  {
   "cell_type": "code",
   "execution_count": 5,
   "metadata": {},
   "outputs": [],
   "source": [
    "class Robot: \n",
    "    def __init__ (self, name, color, weight): # Constructor in Python\n",
    "        self.name = name\n",
    "        self.color = color\n",
    "        self.weight = weight\n",
    "        \n",
    "    def introduce_self(self):\n",
    "        print(\"My name is \" + self.name) # self = this in Java"
   ]
  },
  {
   "cell_type": "code",
   "execution_count": 6,
   "metadata": {},
   "outputs": [],
   "source": [
    "#r1 = Robot ()\n",
    "#r1.name = \"Tom\"\n",
    "#r1.color = \"red\"\n",
    "#r1.weight = 30\n",
    "\n",
    "#r2 = Robot ()\n",
    "#r2.name = \"Jerry\"\n",
    "#r2.color = \"blue\"\n",
    "#r2.weight = 40\n",
    "\n",
    "r1 = Robot (\"Tom\", \"red\", 30)\n",
    "r2 = Robot (\"Jerry\", \"blue\", 40)"
   ]
  },
  {
   "cell_type": "code",
   "execution_count": 7,
   "metadata": {},
   "outputs": [],
   "source": [
    "p1 = Person (\"Alice\", \"aggresive\", False, r2)\n",
    "p2 = Person (\"Becky\", \"talkative\", True, r1)"
   ]
  },
  {
   "cell_type": "code",
   "execution_count": 9,
   "metadata": {},
   "outputs": [
    {
     "name": "stdout",
     "output_type": "stream",
     "text": [
      "My name is Jerry\n"
     ]
    }
   ],
   "source": [
    "p1.robotOwned.introduce_self()"
   ]
  },
  {
   "cell_type": "code",
   "execution_count": 10,
   "metadata": {},
   "outputs": [],
   "source": [
    "p1.sit_down ()"
   ]
  },
  {
   "cell_type": "code",
   "execution_count": null,
   "metadata": {},
   "outputs": [],
   "source": []
  }
 ],
 "metadata": {
  "kernelspec": {
   "display_name": "Python 3",
   "language": "python",
   "name": "python3"
  },
  "language_info": {
   "codemirror_mode": {
    "name": "ipython",
    "version": 3
   },
   "file_extension": ".py",
   "mimetype": "text/x-python",
   "name": "python",
   "nbconvert_exporter": "python",
   "pygments_lexer": "ipython3",
   "version": "3.6.4"
  }
 },
 "nbformat": 4,
 "nbformat_minor": 2
}
