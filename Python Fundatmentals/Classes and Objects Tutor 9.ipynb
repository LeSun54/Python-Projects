{
 "cells": [
  {
   "cell_type": "code",
   "execution_count": 1,
   "metadata": {},
   "outputs": [],
   "source": [
    "class Robot: \n",
    "    def __init__ (self, name, color, weight): # Constructor in Python\n",
    "        self.name = name\n",
    "        self.color = color\n",
    "        self.weight = weight\n",
    "        \n",
    "    def introduce_self(self):\n",
    "        print(\"My name is \" + self.name) # self = this in Java"
   ]
  },
  {
   "cell_type": "code",
   "execution_count": 2,
   "metadata": {},
   "outputs": [],
   "source": [
    "#r1 = Robot ()\n",
    "#r1.name = \"Tom\"\n",
    "#r1.color = \"red\"\n",
    "#r1.weight = 30\n",
    "\n",
    "#r2 = Robot ()\n",
    "#r2.name = \"Jerry\"\n",
    "#r2.color = \"blue\"\n",
    "#r2.weight = 40\n",
    "\n",
    "r1 = Robot (\"Tom\", \"red\", 30)\n",
    "r2 = Robot (\"Jerry\", \"blue\", 40)"
   ]
  },
  {
   "cell_type": "code",
   "execution_count": 3,
   "metadata": {},
   "outputs": [
    {
     "name": "stdout",
     "output_type": "stream",
     "text": [
      "My name is Tom\n",
      "My name is Jerry\n"
     ]
    }
   ],
   "source": [
    "r1.introduce_self()\n",
    "r2.introduce_self()"
   ]
  },
  {
   "cell_type": "code",
   "execution_count": 10,
   "metadata": {},
   "outputs": [],
   "source": [
    "class Boy:\n",
    "    def __init__ (self, name, age, weight):\n",
    "        self.name = name\n",
    "        self.age = age\n",
    "        self.weight = age\n",
    "    def introduce_self (self):\n",
    "        print (\"My name is \" + self.name)\n",
    "        print (\"I am \" + self.age + \" years old\")\n",
    "        print (\"I weighted \" + self.weight)\n",
    "        print (\"\")"
   ]
  },
  {
   "cell_type": "code",
   "execution_count": 11,
   "metadata": {},
   "outputs": [],
   "source": [
    "r3 = Boy(\"Leon\", \"22\", \"68\")\n",
    "r4 = Boy(\"Sun\", \"23\", \"70\")"
   ]
  },
  {
   "cell_type": "code",
   "execution_count": 12,
   "metadata": {},
   "outputs": [
    {
     "name": "stdout",
     "output_type": "stream",
     "text": [
      "My name is Leon\n",
      "I am 22 years old\n",
      "I weighted 22\n",
      "\n",
      "My name is Sun\n",
      "I am 23 years old\n",
      "I weighted 23\n",
      "\n"
     ]
    }
   ],
   "source": [
    "r3.introduce_self()\n",
    "r4.introduce_self()"
   ]
  },
  {
   "cell_type": "code",
   "execution_count": null,
   "metadata": {},
   "outputs": [],
   "source": []
  }
 ],
 "metadata": {
  "kernelspec": {
   "display_name": "Python 3",
   "language": "python",
   "name": "python3"
  },
  "language_info": {
   "codemirror_mode": {
    "name": "ipython",
    "version": 3
   },
   "file_extension": ".py",
   "mimetype": "text/x-python",
   "name": "python",
   "nbconvert_exporter": "python",
   "pygments_lexer": "ipython3",
   "version": "3.6.4"
  }
 },
 "nbformat": 4,
 "nbformat_minor": 2
}
